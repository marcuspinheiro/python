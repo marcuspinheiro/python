{
 "cells": [
  {
   "cell_type": "code",
   "execution_count": 2,
   "metadata": {},
   "outputs": [],
   "source": [
    "import requests\n",
    "from bs4 import BeautifulSoup"
   ]
  },
  {
   "cell_type": "code",
   "execution_count": 34,
   "metadata": {},
   "outputs": [],
   "source": [
    "r = requests.get('http://www.jogosdoguarani.com/2021/index.html')"
   ]
  },
  {
   "cell_type": "code",
   "execution_count": 35,
   "metadata": {},
   "outputs": [
    {
     "data": {
      "text/plain": [
       "'<!DOCTYPE html PUBLIC \"-//w3c//dtd html 4.0 transitional//en\">\\n<html>\\n  <head>\\n    <meta http-equiv=\"Content-Type\" content=\"text/html;\\n      charset=windows-1252\">\\n    <meta name=\"Author\" content=\"Jose Ricardo Lenzi Mariolani\">\\n    <meta name=\"GENERATOR\" content=\"Mozilla/4.76 [en] (Win98; U)\\n      [Netscape]\">\\n    <title>GUARANI FUTEBOL CLUBE - Jogos de 2021</title>\\n  </head>\\n  <body nosave=\"\" style=\"background-image:\\n    url(../index_arquivos/image001.gif); background-color: rgb(255, 255,\\n    255); color: rgb(0, 0, 0);\" link=\"#009900\" vlink=\"#009900\"\\n    alink=\"#33cc00\">\\n    <div align=\"center\"><font color=\"#008800\"><b><u><font face=\"Courier\\n              New,Courier\"><font size=\"+3\">2021</font></font></u></b></font></div>\\n    <center style=\"color: rgb(0, 128, 0);\">\\n      <p><font face=\"Courier New,Courier\"><font size=\"-1\">Clique nas\\n            datas para ver as fichas técnicas</font></font></p>\\n    </center>\\n    <p style=\"color: rgb(0, 128, 0);\"><font face=\"Courier New,Courier\"><a\\n          href=\"0121.html\">02/01/2021</a> - <b>GUARANI</b> 0 X 1\\n        América (MG) - Campeonato Brasileiro série B 2020<br>\\n      </font></p>\\n    <p style=\"color: rgb(0, 128, 0);\"><font face=\"Courier New,Courier\"><a\\n          href=\"0221.html\">05/01/2021</a> - <b>GUARANI</b> 1 X 1 AAPP -\\n        Campeonato Brasileiro série B 2020</font><br>\\n      <font face=\"Courier New,Courier\"> </font> </p>\\n    <p style=\"color: rgb(0, 128, 0);\"><font face=\"Courier New,Courier\"><a\\n          href=\"0321.html\">11/01/2021</a> - CRB 2 X 0 <b>GUARANI</b> -\\n        Campeonato Brasileiro série B 2020<br>\\n      </font></p>\\n    <p style=\"color: rgb(0, 128, 0);\"><font face=\"Courier New,Courier\"><a\\n          href=\"0421.html\">14/01/2021</a> - Cuiabá 4 X 0 <b>GUARANI</b>\\n        - Campeonato Brasileiro série B 2020</font><br>\\n      <font face=\"Courier New,Courier\"> </font> </p>\\n    <p style=\"color: rgb(0, 128, 0);\"><font face=\"Courier New,Courier\"><a\\n          href=\"0521.html\">20/01/2021</a> - <b>GUARANI</b> 1 X 2\\n        Vitória - Campeonato Brasileiro série B 2020</font><br>\\n      <font face=\"Courier New,Courier\"> </font> </p>\\n    <p style=\"color: rgb(0, 128, 0);\"><font face=\"Courier New,Courier\"><a\\n          href=\"0621.html\">23/01/2021</a> - Avaí 2 X 1 <b>GUARANI</b> -\\n        Campeonato Brasileiro série B 2020<br>\\n      </font></p>\\n    <p style=\"color: rgb(0, 128, 0);\"><font face=\"Courier New,Courier\"><a\\n          href=\"0721.html\">29/01/2021</a> - <b>GUARANI</b> 0 X 1\\n        Juventude - Campeonato Brasileiro série B 2020<br>\\n      </font></p>\\n    <p style=\"color: rgb(0, 128, 0);\"><font face=\"Courier New,Courier\"><a\\n          href=\"0821.html\">01/03/2021</a> - <b>GUARANI</b> 0 X 3 Ituano\\n        - Campeonato Paulista<br>\\n      </font></p>\\n    <p style=\"color: rgb(0, 128, 0);\"><font face=\"Courier New,Courier\"><a\\n          href=\"0921.html\">04/03/2021</a> - Botafogo (Rib. Preto) 0 X 1\\n        <b>GUARANI</b> - Campeonato Paulista<br>\\n      </font></p>\\n    <p style=\"color: rgb(0, 128, 0);\"><font face=\"Courier New,Courier\"><a\\n          href=\"1021.html\">07/03/2021</a> - <b>GUARANI</b> 1 X 1 Red\\n        Bull Bragantino - Campeonato Paulista<br>\\n      </font></p>\\n    <p style=\"color: rgb(0, 128, 0);\"><font face=\"Courier New,Courier\"><a\\n          href=\"1121.html\">13/03/2021</a> - <b>GUARANI</b> 0 X 0 São\\n        Bento (Sorocaba) - Campeonato Paulista<br>\\n      </font></p>\\n    <p style=\"color: rgb(0, 128, 0);\"><font face=\"Courier New,Courier\"><a\\n          href=\"1221.html\">11/04/2021</a> - <b>GUARANI</b> 0 X 1\\n        Corinthians Pta. - Campeonato Paulista<br>\\n      </font></p>\\n    <p style=\"color: rgb(0, 128, 0);\"><font face=\"Courier New,Courier\"><a\\n          href=\"1321.html\">14/04/2021</a> - S. Paulo 3 X 2 <b>GUARANI</b>\\n        - Campeonato Paulista<br>\\n      </font></p>\\n    <p style=\"color: rgb(0, 128, 0);\"><font face=\"Courier New,Courier\"><a\\n          href=\"1421.html\">20/04/2021</a> - Ferroviária 1 X 2 <b>GUARANI</b>\\n        - Campeonato Paulista<br>\\n      </font></p>\\n    <p style=\"color: rgb(0, 128, 0);\"><font face=\"Courier New,Courier\"><a\\n          href=\"1521.html\">23/04/2021</a> - <b>GUARANI</b> 1 X 2\\n        Palmeiras - Campeonato Paulista<br>\\n      </font></p>\\n    <p style=\"color: rgb(0, 128, 0);\"><font face=\"Courier New,Courier\"><a\\n          href=\"1621.html\">26/04/2021</a> - (Canindé) Santo André 0 X 1\\n        <b>GUARANI</b> - Campeonato Paulista<br>\\n      </font></p>\\n    <p style=\"color: rgb(0, 128, 0);\"><font face=\"Courier New,Courier\"><a\\n          href=\"1721.html\">02/05/2021</a> - <b>GUARANI</b> 2 X 1\\n        Novorizontino - Campeonato Paulsta<br>\\n      </font></p>\\n    <p style=\"color: rgb(0, 128, 0);\"><font face=\"Courier New,Courier\"><a\\n          href=\"1821.html\">05/05/2021</a> - AAPP 3 X 1 <b>GUARANI</b> -\\n        Campeonato Paulista<br>\\n      </font></p>\\n    <p style=\"color: rgb(0, 128, 0);\"><font face=\"Courier New,Courier\"><a\\n          href=\"1921.html\">09/05/2021</a> - Internacional (Limeira) 1 X\\n        0 <b>GUARANI</b> - Campeonato Paulista<br>\\n      </font></p>\\n    <p style=\"color: rgb(0, 128, 0);\"><font face=\"Courier New,Courier\"><a\\n          href=\"2021.html\">12/05/2021</a> - Mirassol 0 X 0 <b>GUARANI</b>\\n        - Campeonato Paulista<br>\\n      </font></p>\\n    <p style=\"color: rgb(0, 128, 0);\"><font face=\"Courier New,Courier\"><a\\n          href=\"2121.html\">28/05/2021</a> - <b>GUARANI</b> 1 X 1\\n        Vitória - Campeonato Brasileiro série B<br>\\n      </font></p>\\n    <p style=\"color: rgb(0, 128, 0);\"><font face=\"Courier New,Courier\"><a\\n          href=\"2221.html\">01/06/2021</a> - (Curitiba) Operário (Ponta\\n        Grossa) 2 X 5 <b>GUARANI</b> - Campeonato Brasileiro série B<br>\\n      </font></p>\\n    <p style=\"color: rgb(0, 128, 0);\"><font face=\"Courier New,Courier\"><a\\n          href=\"2321.html\">11/06/2021</a> - <b>GUARANI</b> 1 X 3\\n        Náutico - Campeonato Brasileiro série B<br>\\n      </font></p>\\n    <p style=\"color: rgb(0, 128, 0);\"><font face=\"Courier New,Courier\"><a\\n          href=\"2421.html\">15/06/2021</a> - CSA 1 X 1 <b>GUARANI</b> -\\n        Campeonato Brasileiro série B<br>\\n      </font></p>\\n    <p style=\"color: rgb(0, 128, 0);\"><font face=\"Courier New,Courier\"><a\\n          href=\"2521.html\">19/06/2021</a> - <b>GUARANI</b> 1 X 0 AAPP -\\n        Campeonato Brasileiro série B<br>\\n      </font></p>\\n    <p style=\"color: rgb(0, 128, 0);\"><font face=\"Courier New,Courier\"><a\\n          href=\"2621.html\">22/06/2021</a> - Remo 0 X 0 <b>GUARANI</b> -\\n        Campeonato Brasileiro série B<br>\\n      </font></p>\\n    <p style=\"color: rgb(0, 128, 0);\"><font face=\"Courier New,Courier\"><a\\n          href=\"2721.html\">25/06/2021</a> - <b>GUARANI</b> 0 X 2\\n        Coritiba - Campeonato Brasileiro série B<br>\\n      </font></p>\\n    <p style=\"color: rgb(0, 128, 0);\"><font face=\"Courier New,Courier\"><a\\n          href=\"2821.html\">30/06/2021</a> - Cruzeiro 3 X 3 <b>GUARANI</b>\\n        - Campeonato Brasileiro série B<br>\\n      </font></p>\\n    <p style=\"color: rgb(0, 128, 0);\"><font face=\"Courier New,Courier\"><a\\n          href=\"2921.html\">04/07/2021</a> - <b>GUARANI</b> 4 X 1\\n        Brusque - Campeonato Brasileiro série B<br>\\n      </font></p>\\n    <p style=\"color: rgb(0, 128, 0);\"><font face=\"Courier New,Courier\"><a\\n          href=\"3021.html\">09/07/2021</a> - Londrina 0 X 1 <b>GUARANI</b>\\n        - Campeonato Brasileiro série B<br>\\n      </font></p>\\n    <p style=\"color: rgb(0, 128, 0);\"><font face=\"Courier New,Courier\"><a\\n          href=\"3121.html\">13/07/2021</a> - <b>GUARANI</b> 1 X 0 CRB -\\n        Campeonato Brasileiro série B<br>\\n      </font></p>\\n    <p style=\"color: rgb(0, 128, 0);\"><font face=\"Courier New,Courier\"><a\\n          href=\"3221.html\">16/07/2021</a> - Confiança 1 X 4 <b>GUARANI</b>\\n        - Campeonato Brasileiro série B<br>\\n      </font></p>\\n    <p style=\"color: rgb(0, 128, 0);\"><font face=\"Courier New,Courier\"><a\\n          href=\"3321.html\">20/07/2021</a> - <b>GUARANI</b> 0 X 0\\n        Sampaio Corrêa - Campeonato Brasileiro série B<br>\\n      </font></p>\\n    <p style=\"color: rgb(0, 128, 0);\"><font face=\"Courier New,Courier\"><a\\n          href=\"3421.html\">24/07/2021</a> - Vasco 4 X 1 <b>GUARANI</b>\\n        - Campeonato Brasileiro série B<br>\\n      </font></p>\\n    <p style=\"color: rgb(0, 128, 0);\"><font face=\"Courier New,Courier\">31/07/2021\\n\\n\\n\\n\\n\\n\\n\\n\\n\\n\\n\\n\\n\\n\\n\\n        - <b>GUARANI</b>&nbsp; X&nbsp; Vila Nova (GO) - Campeonato\\n        Brasileiro série B<br>\\n      </font></p>\\n    <p style=\"color: rgb(0, 128, 0);\"><font face=\"Courier New,Courier\">06/08/2021\\n\\n\\n\\n\\n\\n\\n\\n\\n\\n\\n\\n\\n\\n\\n\\n        - <b>GUARANI</b>&nbsp; X&nbsp; Brasil (Pelotas) - Campeonato\\n        Brasileiro série B<br>\\n      </font></p>\\n    <p style=\"color: rgb(0, 128, 0);\"><font face=\"Courier New,Courier\">10/08/2021\\n        - Avaí&nbsp; X&nbsp; <b>GUARANI</b> - Campeonato Brasileiro\\n        série B<br>\\n      </font></p>\\n    <p style=\"color: rgb(0, 128, 0);\"><font face=\"Courier New,Courier\">13/08/2021\\n        - Goiás&nbsp; X&nbsp; <b>GUARANI</b> - Campeonato Brasileiro\\n        série B<br>\\n      </font></p>\\n    <p style=\"color: rgb(0, 128, 0);\"><font face=\"Courier New,Courier\">18/08/2021\\n        - <b>GUARANI</b>&nbsp; X&nbsp; Botafogo (RJ) - Campeonato\\n        Brasileiro série B<br>\\n      </font></p>\\n    <p style=\"color: rgb(0, 128, 0);\"><font face=\"Courier New,Courier\">21/08/2021\\n        - Vitória&nbsp; X&nbsp; <b>GUARANI</b> - Campeonato Brasileiro\\n        série B<br>\\n      </font></p>\\n    <p style=\"color: rgb(0, 128, 0);\"><font face=\"Courier New,Courier\">24/08/2021\\n        - <b>GUARANI</b>&nbsp; X&nbsp; Operário (Ponta Grossa) -\\n        Campeonato Brasileiro série B<br>\\n      </font></p>\\n    <p style=\"color: rgb(0, 128, 0);\"><font face=\"Courier New,Courier\">04/09/2021\\n        - Náutico&nbsp; X&nbsp; <b>GUARANI</b> - Campeonato Brasileiro\\n        série B<br>\\n      </font></p>\\n    <p style=\"color: rgb(0, 128, 0);\"><font face=\"Courier New,Courier\">07/09/2021\\n        - <b>GUARANI</b>&nbsp; X&nbsp; CSA - Campeonato Brasileiro\\n        série B<br>\\n      </font> <font face=\"Courier New,Courier\"> </font> </p>\\n    <br>\\n    <table style=\"width: 100%; text-align: left; color: rgb(0, 128, 0);\"\\n      cellspacing=\"2\" cellpadding=\"2\" border=\"0\">\\n      <tbody>\\n        <tr>\\n          <td style=\"vertical-align: top;\"><font color=\"#006600\"><a\\n                href=\"javascript:history.back()\"><span\\n                  style=\"font-family: wingdings;\"></span><span\\n                  style=\"font-size: 14pt; font-family: &quot;Times New\\n                  Roman&quot;;\">voltar</span></a></font></td>\\n          <td style=\"vertical-align: top;\">\\n            <center><font size=\"+1\"><a href=\"../2020/index.html\">2020</a></font></center>\\n          </td>\\n          <td style=\"vertical-align: top;\">\\n            <center><font size=\"+1\"><a href=\"../index.htm\">Página\\n                  inicial</a></font></center>\\n          </td>\\n          <td style=\"vertical-align: top;\">\\n            <center><font size=\"+1\"><a href=\"../2022/index.html\">2022</a></font></center>\\n          </td>\\n        </tr>\\n      </tbody>\\n    </table>\\n    <p><span style=\"font-family: Wingdings;\"><b><font color=\"#006600\"><a\\n              href=\"javascript:history.back()\"><span style=\"font-size:\\n                14pt; font-family: &quot;Times New Roman&quot;;\"></span></a></font></b></span></p>\\n  </body>\\n</html>\\n'"
      ]
     },
     "execution_count": 35,
     "metadata": {},
     "output_type": "execute_result"
    }
   ],
   "source": [
    "r.text"
   ]
  },
  {
   "cell_type": "code",
   "execution_count": 36,
   "metadata": {},
   "outputs": [],
   "source": [
    "soup = BeautifulSoup(r.text, 'html.parser')\n"
   ]
  },
  {
   "cell_type": "code",
   "execution_count": 37,
   "metadata": {},
   "outputs": [
    {
     "data": {
      "text/plain": [
       "'GUARANI FUTEBOL CLUBE - Jogos de 2021'"
      ]
     },
     "execution_count": 37,
     "metadata": {},
     "output_type": "execute_result"
    }
   ],
   "source": [
    "soup.title.string"
   ]
  },
  {
   "cell_type": "code",
   "execution_count": 38,
   "metadata": {},
   "outputs": [
    {
     "name": "stdout",
     "output_type": "stream",
     "text": [
      "0121.html\n",
      "0221.html\n",
      "0321.html\n",
      "0421.html\n",
      "0521.html\n",
      "0621.html\n",
      "0721.html\n",
      "0821.html\n",
      "0921.html\n",
      "1021.html\n",
      "1121.html\n",
      "1221.html\n",
      "1321.html\n",
      "1421.html\n",
      "1521.html\n",
      "1621.html\n",
      "1721.html\n",
      "1821.html\n",
      "1921.html\n",
      "2021.html\n",
      "2121.html\n",
      "2221.html\n",
      "2321.html\n",
      "2421.html\n",
      "2521.html\n",
      "2621.html\n",
      "2721.html\n",
      "2821.html\n",
      "2921.html\n",
      "3021.html\n",
      "3121.html\n",
      "3221.html\n",
      "3321.html\n",
      "3421.html\n",
      "javascript:history.back()\n",
      "../2020/index.html\n",
      "../index.htm\n",
      "../2022/index.html\n",
      "javascript:history.back()\n"
     ]
    }
   ],
   "source": [
    "for link in soup.find_all('a'):\n",
    "    \n",
    "    print(link.get('href'))\n",
    "    "
   ]
  },
  {
   "cell_type": "code",
   "execution_count": 45,
   "metadata": {},
   "outputs": [
    {
     "ename": "KeyboardInterrupt",
     "evalue": "",
     "output_type": "error",
     "traceback": [
      "\u001b[0;31m---------------------------------------------------------------------------\u001b[0m",
      "\u001b[0;31mKeyboardInterrupt\u001b[0m                         Traceback (most recent call last)",
      "\u001b[0;32m<ipython-input-45-97a6ffaff618>\u001b[0m in \u001b[0;36m<module>\u001b[0;34m\u001b[0m\n\u001b[1;32m      1\u001b[0m \u001b[0;32mfor\u001b[0m \u001b[0mlink\u001b[0m \u001b[0;32min\u001b[0m \u001b[0msoup\u001b[0m\u001b[0;34m.\u001b[0m\u001b[0mfind_all\u001b[0m\u001b[0;34m(\u001b[0m\u001b[0;34m'a'\u001b[0m\u001b[0;34m)\u001b[0m\u001b[0;34m:\u001b[0m\u001b[0;34m\u001b[0m\u001b[0;34m\u001b[0m\u001b[0m\n\u001b[0;32m----> 2\u001b[0;31m     \u001b[0mrjogo\u001b[0m \u001b[0;34m=\u001b[0m \u001b[0mrequests\u001b[0m\u001b[0;34m.\u001b[0m\u001b[0mget\u001b[0m\u001b[0;34m(\u001b[0m\u001b[0;34m'http://www.jogosdoguarani.com/2021/'\u001b[0m\u001b[0;34m+\u001b[0m\u001b[0mlink\u001b[0m\u001b[0;34m.\u001b[0m\u001b[0mget\u001b[0m\u001b[0;34m(\u001b[0m\u001b[0;34m'href'\u001b[0m\u001b[0;34m)\u001b[0m\u001b[0;34m)\u001b[0m\u001b[0;34m\u001b[0m\u001b[0;34m\u001b[0m\u001b[0m\n\u001b[0m\u001b[1;32m      3\u001b[0m     \u001b[0msoupjogo\u001b[0m \u001b[0;34m=\u001b[0m \u001b[0mBeautifulSoup\u001b[0m\u001b[0;34m(\u001b[0m\u001b[0mrjogo\u001b[0m\u001b[0;34m.\u001b[0m\u001b[0mtext\u001b[0m\u001b[0;34m,\u001b[0m \u001b[0;34m'html.parser'\u001b[0m\u001b[0;34m)\u001b[0m\u001b[0;34m\u001b[0m\u001b[0;34m\u001b[0m\u001b[0m\n\u001b[1;32m      4\u001b[0m     \u001b[0mprint\u001b[0m\u001b[0;34m(\u001b[0m\u001b[0mlink\u001b[0m\u001b[0;34m.\u001b[0m\u001b[0mget\u001b[0m\u001b[0;34m(\u001b[0m\u001b[0;34m'href'\u001b[0m\u001b[0;34m)\u001b[0m\u001b[0;34m.\u001b[0m\u001b[0mreplace\u001b[0m\u001b[0;34m(\u001b[0m\u001b[0;34m\".html\"\u001b[0m\u001b[0;34m,\u001b[0m\u001b[0;34m\"\"\u001b[0m\u001b[0;34m)\u001b[0m \u001b[0;34m+\u001b[0m \u001b[0;34m(\u001b[0m\u001b[0;34m\"|\"\u001b[0m\u001b[0;34m)\u001b[0m \u001b[0;34m+\u001b[0m \u001b[0msoupjogo\u001b[0m\u001b[0;34m.\u001b[0m\u001b[0mtitle\u001b[0m\u001b[0;34m.\u001b[0m\u001b[0mstring\u001b[0m\u001b[0;34m)\u001b[0m\u001b[0;34m\u001b[0m\u001b[0;34m\u001b[0m\u001b[0m\n\u001b[1;32m      5\u001b[0m \u001b[0;34m\u001b[0m\u001b[0m\n",
      "\u001b[0;32m/home/marcus-pinheiro/snap/jupyter/common/lib/python3.7/site-packages/requests/api.py\u001b[0m in \u001b[0;36mget\u001b[0;34m(url, params, **kwargs)\u001b[0m\n\u001b[1;32m     73\u001b[0m     \"\"\"\n\u001b[1;32m     74\u001b[0m \u001b[0;34m\u001b[0m\u001b[0m\n\u001b[0;32m---> 75\u001b[0;31m     \u001b[0;32mreturn\u001b[0m \u001b[0mrequest\u001b[0m\u001b[0;34m(\u001b[0m\u001b[0;34m'get'\u001b[0m\u001b[0;34m,\u001b[0m \u001b[0murl\u001b[0m\u001b[0;34m,\u001b[0m \u001b[0mparams\u001b[0m\u001b[0;34m=\u001b[0m\u001b[0mparams\u001b[0m\u001b[0;34m,\u001b[0m \u001b[0;34m**\u001b[0m\u001b[0mkwargs\u001b[0m\u001b[0;34m)\u001b[0m\u001b[0;34m\u001b[0m\u001b[0;34m\u001b[0m\u001b[0m\n\u001b[0m\u001b[1;32m     76\u001b[0m \u001b[0;34m\u001b[0m\u001b[0m\n\u001b[1;32m     77\u001b[0m \u001b[0;34m\u001b[0m\u001b[0m\n",
      "\u001b[0;32m/home/marcus-pinheiro/snap/jupyter/common/lib/python3.7/site-packages/requests/api.py\u001b[0m in \u001b[0;36mrequest\u001b[0;34m(method, url, **kwargs)\u001b[0m\n\u001b[1;32m     59\u001b[0m     \u001b[0;31m# cases, and look like a memory leak in others.\u001b[0m\u001b[0;34m\u001b[0m\u001b[0;34m\u001b[0m\u001b[0;34m\u001b[0m\u001b[0m\n\u001b[1;32m     60\u001b[0m     \u001b[0;32mwith\u001b[0m \u001b[0msessions\u001b[0m\u001b[0;34m.\u001b[0m\u001b[0mSession\u001b[0m\u001b[0;34m(\u001b[0m\u001b[0;34m)\u001b[0m \u001b[0;32mas\u001b[0m \u001b[0msession\u001b[0m\u001b[0;34m:\u001b[0m\u001b[0;34m\u001b[0m\u001b[0;34m\u001b[0m\u001b[0m\n\u001b[0;32m---> 61\u001b[0;31m         \u001b[0;32mreturn\u001b[0m \u001b[0msession\u001b[0m\u001b[0;34m.\u001b[0m\u001b[0mrequest\u001b[0m\u001b[0;34m(\u001b[0m\u001b[0mmethod\u001b[0m\u001b[0;34m=\u001b[0m\u001b[0mmethod\u001b[0m\u001b[0;34m,\u001b[0m \u001b[0murl\u001b[0m\u001b[0;34m=\u001b[0m\u001b[0murl\u001b[0m\u001b[0;34m,\u001b[0m \u001b[0;34m**\u001b[0m\u001b[0mkwargs\u001b[0m\u001b[0;34m)\u001b[0m\u001b[0;34m\u001b[0m\u001b[0;34m\u001b[0m\u001b[0m\n\u001b[0m\u001b[1;32m     62\u001b[0m \u001b[0;34m\u001b[0m\u001b[0m\n\u001b[1;32m     63\u001b[0m \u001b[0;34m\u001b[0m\u001b[0m\n",
      "\u001b[0;32m/home/marcus-pinheiro/snap/jupyter/common/lib/python3.7/site-packages/requests/sessions.py\u001b[0m in \u001b[0;36mrequest\u001b[0;34m(self, method, url, params, data, headers, cookies, files, auth, timeout, allow_redirects, proxies, hooks, stream, verify, cert, json)\u001b[0m\n\u001b[1;32m    540\u001b[0m         }\n\u001b[1;32m    541\u001b[0m         \u001b[0msend_kwargs\u001b[0m\u001b[0;34m.\u001b[0m\u001b[0mupdate\u001b[0m\u001b[0;34m(\u001b[0m\u001b[0msettings\u001b[0m\u001b[0;34m)\u001b[0m\u001b[0;34m\u001b[0m\u001b[0;34m\u001b[0m\u001b[0m\n\u001b[0;32m--> 542\u001b[0;31m         \u001b[0mresp\u001b[0m \u001b[0;34m=\u001b[0m \u001b[0mself\u001b[0m\u001b[0;34m.\u001b[0m\u001b[0msend\u001b[0m\u001b[0;34m(\u001b[0m\u001b[0mprep\u001b[0m\u001b[0;34m,\u001b[0m \u001b[0;34m**\u001b[0m\u001b[0msend_kwargs\u001b[0m\u001b[0;34m)\u001b[0m\u001b[0;34m\u001b[0m\u001b[0;34m\u001b[0m\u001b[0m\n\u001b[0m\u001b[1;32m    543\u001b[0m \u001b[0;34m\u001b[0m\u001b[0m\n\u001b[1;32m    544\u001b[0m         \u001b[0;32mreturn\u001b[0m \u001b[0mresp\u001b[0m\u001b[0;34m\u001b[0m\u001b[0;34m\u001b[0m\u001b[0m\n",
      "\u001b[0;32m/home/marcus-pinheiro/snap/jupyter/common/lib/python3.7/site-packages/requests/sessions.py\u001b[0m in \u001b[0;36msend\u001b[0;34m(self, request, **kwargs)\u001b[0m\n\u001b[1;32m    653\u001b[0m \u001b[0;34m\u001b[0m\u001b[0m\n\u001b[1;32m    654\u001b[0m         \u001b[0;31m# Send the request\u001b[0m\u001b[0;34m\u001b[0m\u001b[0;34m\u001b[0m\u001b[0;34m\u001b[0m\u001b[0m\n\u001b[0;32m--> 655\u001b[0;31m         \u001b[0mr\u001b[0m \u001b[0;34m=\u001b[0m \u001b[0madapter\u001b[0m\u001b[0;34m.\u001b[0m\u001b[0msend\u001b[0m\u001b[0;34m(\u001b[0m\u001b[0mrequest\u001b[0m\u001b[0;34m,\u001b[0m \u001b[0;34m**\u001b[0m\u001b[0mkwargs\u001b[0m\u001b[0;34m)\u001b[0m\u001b[0;34m\u001b[0m\u001b[0;34m\u001b[0m\u001b[0m\n\u001b[0m\u001b[1;32m    656\u001b[0m \u001b[0;34m\u001b[0m\u001b[0m\n\u001b[1;32m    657\u001b[0m         \u001b[0;31m# Total elapsed time of the request (approximately)\u001b[0m\u001b[0;34m\u001b[0m\u001b[0;34m\u001b[0m\u001b[0;34m\u001b[0m\u001b[0m\n",
      "\u001b[0;32m/home/marcus-pinheiro/snap/jupyter/common/lib/python3.7/site-packages/requests/adapters.py\u001b[0m in \u001b[0;36msend\u001b[0;34m(self, request, stream, timeout, verify, cert, proxies)\u001b[0m\n\u001b[1;32m    447\u001b[0m                     \u001b[0mdecode_content\u001b[0m\u001b[0;34m=\u001b[0m\u001b[0;32mFalse\u001b[0m\u001b[0;34m,\u001b[0m\u001b[0;34m\u001b[0m\u001b[0;34m\u001b[0m\u001b[0m\n\u001b[1;32m    448\u001b[0m                     \u001b[0mretries\u001b[0m\u001b[0;34m=\u001b[0m\u001b[0mself\u001b[0m\u001b[0;34m.\u001b[0m\u001b[0mmax_retries\u001b[0m\u001b[0;34m,\u001b[0m\u001b[0;34m\u001b[0m\u001b[0;34m\u001b[0m\u001b[0m\n\u001b[0;32m--> 449\u001b[0;31m                     \u001b[0mtimeout\u001b[0m\u001b[0;34m=\u001b[0m\u001b[0mtimeout\u001b[0m\u001b[0;34m\u001b[0m\u001b[0;34m\u001b[0m\u001b[0m\n\u001b[0m\u001b[1;32m    450\u001b[0m                 )\n\u001b[1;32m    451\u001b[0m \u001b[0;34m\u001b[0m\u001b[0m\n",
      "\u001b[0;32m/home/marcus-pinheiro/snap/jupyter/common/lib/python3.7/site-packages/urllib3/connectionpool.py\u001b[0m in \u001b[0;36murlopen\u001b[0;34m(self, method, url, body, headers, retries, redirect, assert_same_host, timeout, pool_timeout, release_conn, chunked, body_pos, **response_kw)\u001b[0m\n\u001b[1;32m    704\u001b[0m                 \u001b[0mbody\u001b[0m\u001b[0;34m=\u001b[0m\u001b[0mbody\u001b[0m\u001b[0;34m,\u001b[0m\u001b[0;34m\u001b[0m\u001b[0;34m\u001b[0m\u001b[0m\n\u001b[1;32m    705\u001b[0m                 \u001b[0mheaders\u001b[0m\u001b[0;34m=\u001b[0m\u001b[0mheaders\u001b[0m\u001b[0;34m,\u001b[0m\u001b[0;34m\u001b[0m\u001b[0;34m\u001b[0m\u001b[0m\n\u001b[0;32m--> 706\u001b[0;31m                 \u001b[0mchunked\u001b[0m\u001b[0;34m=\u001b[0m\u001b[0mchunked\u001b[0m\u001b[0;34m,\u001b[0m\u001b[0;34m\u001b[0m\u001b[0;34m\u001b[0m\u001b[0m\n\u001b[0m\u001b[1;32m    707\u001b[0m             )\n\u001b[1;32m    708\u001b[0m \u001b[0;34m\u001b[0m\u001b[0m\n",
      "\u001b[0;32m/home/marcus-pinheiro/snap/jupyter/common/lib/python3.7/site-packages/urllib3/connectionpool.py\u001b[0m in \u001b[0;36m_make_request\u001b[0;34m(self, conn, method, url, timeout, chunked, **httplib_request_kw)\u001b[0m\n\u001b[1;32m    392\u001b[0m                 \u001b[0mconn\u001b[0m\u001b[0;34m.\u001b[0m\u001b[0mrequest_chunked\u001b[0m\u001b[0;34m(\u001b[0m\u001b[0mmethod\u001b[0m\u001b[0;34m,\u001b[0m \u001b[0murl\u001b[0m\u001b[0;34m,\u001b[0m \u001b[0;34m**\u001b[0m\u001b[0mhttplib_request_kw\u001b[0m\u001b[0;34m)\u001b[0m\u001b[0;34m\u001b[0m\u001b[0;34m\u001b[0m\u001b[0m\n\u001b[1;32m    393\u001b[0m             \u001b[0;32melse\u001b[0m\u001b[0;34m:\u001b[0m\u001b[0;34m\u001b[0m\u001b[0;34m\u001b[0m\u001b[0m\n\u001b[0;32m--> 394\u001b[0;31m                 \u001b[0mconn\u001b[0m\u001b[0;34m.\u001b[0m\u001b[0mrequest\u001b[0m\u001b[0;34m(\u001b[0m\u001b[0mmethod\u001b[0m\u001b[0;34m,\u001b[0m \u001b[0murl\u001b[0m\u001b[0;34m,\u001b[0m \u001b[0;34m**\u001b[0m\u001b[0mhttplib_request_kw\u001b[0m\u001b[0;34m)\u001b[0m\u001b[0;34m\u001b[0m\u001b[0;34m\u001b[0m\u001b[0m\n\u001b[0m\u001b[1;32m    395\u001b[0m \u001b[0;34m\u001b[0m\u001b[0m\n\u001b[1;32m    396\u001b[0m         \u001b[0;31m# We are swallowing BrokenPipeError (errno.EPIPE) since the server is\u001b[0m\u001b[0;34m\u001b[0m\u001b[0;34m\u001b[0m\u001b[0;34m\u001b[0m\u001b[0m\n",
      "\u001b[0;32m/home/marcus-pinheiro/snap/jupyter/common/lib/python3.7/site-packages/urllib3/connection.py\u001b[0m in \u001b[0;36mrequest\u001b[0;34m(self, method, url, body, headers)\u001b[0m\n\u001b[1;32m    232\u001b[0m         \u001b[0;32mif\u001b[0m \u001b[0;34m\"user-agent\"\u001b[0m \u001b[0;32mnot\u001b[0m \u001b[0;32min\u001b[0m \u001b[0;34m(\u001b[0m\u001b[0msix\u001b[0m\u001b[0;34m.\u001b[0m\u001b[0mensure_str\u001b[0m\u001b[0;34m(\u001b[0m\u001b[0mk\u001b[0m\u001b[0;34m.\u001b[0m\u001b[0mlower\u001b[0m\u001b[0;34m(\u001b[0m\u001b[0;34m)\u001b[0m\u001b[0;34m)\u001b[0m \u001b[0;32mfor\u001b[0m \u001b[0mk\u001b[0m \u001b[0;32min\u001b[0m \u001b[0mheaders\u001b[0m\u001b[0;34m)\u001b[0m\u001b[0;34m:\u001b[0m\u001b[0;34m\u001b[0m\u001b[0;34m\u001b[0m\u001b[0m\n\u001b[1;32m    233\u001b[0m             \u001b[0mheaders\u001b[0m\u001b[0;34m[\u001b[0m\u001b[0;34m\"User-Agent\"\u001b[0m\u001b[0;34m]\u001b[0m \u001b[0;34m=\u001b[0m \u001b[0m_get_default_user_agent\u001b[0m\u001b[0;34m(\u001b[0m\u001b[0;34m)\u001b[0m\u001b[0;34m\u001b[0m\u001b[0;34m\u001b[0m\u001b[0m\n\u001b[0;32m--> 234\u001b[0;31m         \u001b[0msuper\u001b[0m\u001b[0;34m(\u001b[0m\u001b[0mHTTPConnection\u001b[0m\u001b[0;34m,\u001b[0m \u001b[0mself\u001b[0m\u001b[0;34m)\u001b[0m\u001b[0;34m.\u001b[0m\u001b[0mrequest\u001b[0m\u001b[0;34m(\u001b[0m\u001b[0mmethod\u001b[0m\u001b[0;34m,\u001b[0m \u001b[0murl\u001b[0m\u001b[0;34m,\u001b[0m \u001b[0mbody\u001b[0m\u001b[0;34m=\u001b[0m\u001b[0mbody\u001b[0m\u001b[0;34m,\u001b[0m \u001b[0mheaders\u001b[0m\u001b[0;34m=\u001b[0m\u001b[0mheaders\u001b[0m\u001b[0;34m)\u001b[0m\u001b[0;34m\u001b[0m\u001b[0;34m\u001b[0m\u001b[0m\n\u001b[0m\u001b[1;32m    235\u001b[0m \u001b[0;34m\u001b[0m\u001b[0m\n\u001b[1;32m    236\u001b[0m     \u001b[0;32mdef\u001b[0m \u001b[0mrequest_chunked\u001b[0m\u001b[0;34m(\u001b[0m\u001b[0mself\u001b[0m\u001b[0;34m,\u001b[0m \u001b[0mmethod\u001b[0m\u001b[0;34m,\u001b[0m \u001b[0murl\u001b[0m\u001b[0;34m,\u001b[0m \u001b[0mbody\u001b[0m\u001b[0;34m=\u001b[0m\u001b[0;32mNone\u001b[0m\u001b[0;34m,\u001b[0m \u001b[0mheaders\u001b[0m\u001b[0;34m=\u001b[0m\u001b[0;32mNone\u001b[0m\u001b[0;34m)\u001b[0m\u001b[0;34m:\u001b[0m\u001b[0;34m\u001b[0m\u001b[0;34m\u001b[0m\u001b[0m\n",
      "\u001b[0;32m/snap/jupyter/6/lib/python3.7/http/client.py\u001b[0m in \u001b[0;36mrequest\u001b[0;34m(self, method, url, body, headers, encode_chunked)\u001b[0m\n\u001b[1;32m   1227\u001b[0m                 encode_chunked=False):\n\u001b[1;32m   1228\u001b[0m         \u001b[0;34m\"\"\"Send a complete request to the server.\"\"\"\u001b[0m\u001b[0;34m\u001b[0m\u001b[0;34m\u001b[0m\u001b[0m\n\u001b[0;32m-> 1229\u001b[0;31m         \u001b[0mself\u001b[0m\u001b[0;34m.\u001b[0m\u001b[0m_send_request\u001b[0m\u001b[0;34m(\u001b[0m\u001b[0mmethod\u001b[0m\u001b[0;34m,\u001b[0m \u001b[0murl\u001b[0m\u001b[0;34m,\u001b[0m \u001b[0mbody\u001b[0m\u001b[0;34m,\u001b[0m \u001b[0mheaders\u001b[0m\u001b[0;34m,\u001b[0m \u001b[0mencode_chunked\u001b[0m\u001b[0;34m)\u001b[0m\u001b[0;34m\u001b[0m\u001b[0;34m\u001b[0m\u001b[0m\n\u001b[0m\u001b[1;32m   1230\u001b[0m \u001b[0;34m\u001b[0m\u001b[0m\n\u001b[1;32m   1231\u001b[0m     \u001b[0;32mdef\u001b[0m \u001b[0m_send_request\u001b[0m\u001b[0;34m(\u001b[0m\u001b[0mself\u001b[0m\u001b[0;34m,\u001b[0m \u001b[0mmethod\u001b[0m\u001b[0;34m,\u001b[0m \u001b[0murl\u001b[0m\u001b[0;34m,\u001b[0m \u001b[0mbody\u001b[0m\u001b[0;34m,\u001b[0m \u001b[0mheaders\u001b[0m\u001b[0;34m,\u001b[0m \u001b[0mencode_chunked\u001b[0m\u001b[0;34m)\u001b[0m\u001b[0;34m:\u001b[0m\u001b[0;34m\u001b[0m\u001b[0;34m\u001b[0m\u001b[0m\n",
      "\u001b[0;32m/snap/jupyter/6/lib/python3.7/http/client.py\u001b[0m in \u001b[0;36m_send_request\u001b[0;34m(self, method, url, body, headers, encode_chunked)\u001b[0m\n\u001b[1;32m   1273\u001b[0m             \u001b[0;31m# default charset of iso-8859-1.\u001b[0m\u001b[0;34m\u001b[0m\u001b[0;34m\u001b[0m\u001b[0;34m\u001b[0m\u001b[0m\n\u001b[1;32m   1274\u001b[0m             \u001b[0mbody\u001b[0m \u001b[0;34m=\u001b[0m \u001b[0m_encode\u001b[0m\u001b[0;34m(\u001b[0m\u001b[0mbody\u001b[0m\u001b[0;34m,\u001b[0m \u001b[0;34m'body'\u001b[0m\u001b[0;34m)\u001b[0m\u001b[0;34m\u001b[0m\u001b[0;34m\u001b[0m\u001b[0m\n\u001b[0;32m-> 1275\u001b[0;31m         \u001b[0mself\u001b[0m\u001b[0;34m.\u001b[0m\u001b[0mendheaders\u001b[0m\u001b[0;34m(\u001b[0m\u001b[0mbody\u001b[0m\u001b[0;34m,\u001b[0m \u001b[0mencode_chunked\u001b[0m\u001b[0;34m=\u001b[0m\u001b[0mencode_chunked\u001b[0m\u001b[0;34m)\u001b[0m\u001b[0;34m\u001b[0m\u001b[0;34m\u001b[0m\u001b[0m\n\u001b[0m\u001b[1;32m   1276\u001b[0m \u001b[0;34m\u001b[0m\u001b[0m\n\u001b[1;32m   1277\u001b[0m     \u001b[0;32mdef\u001b[0m \u001b[0mgetresponse\u001b[0m\u001b[0;34m(\u001b[0m\u001b[0mself\u001b[0m\u001b[0;34m)\u001b[0m\u001b[0;34m:\u001b[0m\u001b[0;34m\u001b[0m\u001b[0;34m\u001b[0m\u001b[0m\n",
      "\u001b[0;32m/snap/jupyter/6/lib/python3.7/http/client.py\u001b[0m in \u001b[0;36mendheaders\u001b[0;34m(self, message_body, encode_chunked)\u001b[0m\n\u001b[1;32m   1222\u001b[0m         \u001b[0;32melse\u001b[0m\u001b[0;34m:\u001b[0m\u001b[0;34m\u001b[0m\u001b[0;34m\u001b[0m\u001b[0m\n\u001b[1;32m   1223\u001b[0m             \u001b[0;32mraise\u001b[0m \u001b[0mCannotSendHeader\u001b[0m\u001b[0;34m(\u001b[0m\u001b[0;34m)\u001b[0m\u001b[0;34m\u001b[0m\u001b[0;34m\u001b[0m\u001b[0m\n\u001b[0;32m-> 1224\u001b[0;31m         \u001b[0mself\u001b[0m\u001b[0;34m.\u001b[0m\u001b[0m_send_output\u001b[0m\u001b[0;34m(\u001b[0m\u001b[0mmessage_body\u001b[0m\u001b[0;34m,\u001b[0m \u001b[0mencode_chunked\u001b[0m\u001b[0;34m=\u001b[0m\u001b[0mencode_chunked\u001b[0m\u001b[0;34m)\u001b[0m\u001b[0;34m\u001b[0m\u001b[0;34m\u001b[0m\u001b[0m\n\u001b[0m\u001b[1;32m   1225\u001b[0m \u001b[0;34m\u001b[0m\u001b[0m\n\u001b[1;32m   1226\u001b[0m     def request(self, method, url, body=None, headers={}, *,\n",
      "\u001b[0;32m/snap/jupyter/6/lib/python3.7/http/client.py\u001b[0m in \u001b[0;36m_send_output\u001b[0;34m(self, message_body, encode_chunked)\u001b[0m\n\u001b[1;32m   1014\u001b[0m         \u001b[0mmsg\u001b[0m \u001b[0;34m=\u001b[0m \u001b[0;34mb\"\\r\\n\"\u001b[0m\u001b[0;34m.\u001b[0m\u001b[0mjoin\u001b[0m\u001b[0;34m(\u001b[0m\u001b[0mself\u001b[0m\u001b[0;34m.\u001b[0m\u001b[0m_buffer\u001b[0m\u001b[0;34m)\u001b[0m\u001b[0;34m\u001b[0m\u001b[0;34m\u001b[0m\u001b[0m\n\u001b[1;32m   1015\u001b[0m         \u001b[0;32mdel\u001b[0m \u001b[0mself\u001b[0m\u001b[0;34m.\u001b[0m\u001b[0m_buffer\u001b[0m\u001b[0;34m[\u001b[0m\u001b[0;34m:\u001b[0m\u001b[0;34m]\u001b[0m\u001b[0;34m\u001b[0m\u001b[0;34m\u001b[0m\u001b[0m\n\u001b[0;32m-> 1016\u001b[0;31m         \u001b[0mself\u001b[0m\u001b[0;34m.\u001b[0m\u001b[0msend\u001b[0m\u001b[0;34m(\u001b[0m\u001b[0mmsg\u001b[0m\u001b[0;34m)\u001b[0m\u001b[0;34m\u001b[0m\u001b[0;34m\u001b[0m\u001b[0m\n\u001b[0m\u001b[1;32m   1017\u001b[0m \u001b[0;34m\u001b[0m\u001b[0m\n\u001b[1;32m   1018\u001b[0m         \u001b[0;32mif\u001b[0m \u001b[0mmessage_body\u001b[0m \u001b[0;32mis\u001b[0m \u001b[0;32mnot\u001b[0m \u001b[0;32mNone\u001b[0m\u001b[0;34m:\u001b[0m\u001b[0;34m\u001b[0m\u001b[0;34m\u001b[0m\u001b[0m\n",
      "\u001b[0;32m/snap/jupyter/6/lib/python3.7/http/client.py\u001b[0m in \u001b[0;36msend\u001b[0;34m(self, data)\u001b[0m\n\u001b[1;32m    954\u001b[0m         \u001b[0;32mif\u001b[0m \u001b[0mself\u001b[0m\u001b[0;34m.\u001b[0m\u001b[0msock\u001b[0m \u001b[0;32mis\u001b[0m \u001b[0;32mNone\u001b[0m\u001b[0;34m:\u001b[0m\u001b[0;34m\u001b[0m\u001b[0;34m\u001b[0m\u001b[0m\n\u001b[1;32m    955\u001b[0m             \u001b[0;32mif\u001b[0m \u001b[0mself\u001b[0m\u001b[0;34m.\u001b[0m\u001b[0mauto_open\u001b[0m\u001b[0;34m:\u001b[0m\u001b[0;34m\u001b[0m\u001b[0;34m\u001b[0m\u001b[0m\n\u001b[0;32m--> 956\u001b[0;31m                 \u001b[0mself\u001b[0m\u001b[0;34m.\u001b[0m\u001b[0mconnect\u001b[0m\u001b[0;34m(\u001b[0m\u001b[0;34m)\u001b[0m\u001b[0;34m\u001b[0m\u001b[0;34m\u001b[0m\u001b[0m\n\u001b[0m\u001b[1;32m    957\u001b[0m             \u001b[0;32melse\u001b[0m\u001b[0;34m:\u001b[0m\u001b[0;34m\u001b[0m\u001b[0;34m\u001b[0m\u001b[0m\n\u001b[1;32m    958\u001b[0m                 \u001b[0;32mraise\u001b[0m \u001b[0mNotConnected\u001b[0m\u001b[0;34m(\u001b[0m\u001b[0;34m)\u001b[0m\u001b[0;34m\u001b[0m\u001b[0;34m\u001b[0m\u001b[0m\n",
      "\u001b[0;32m/home/marcus-pinheiro/snap/jupyter/common/lib/python3.7/site-packages/urllib3/connection.py\u001b[0m in \u001b[0;36mconnect\u001b[0;34m(self)\u001b[0m\n\u001b[1;32m    198\u001b[0m \u001b[0;34m\u001b[0m\u001b[0m\n\u001b[1;32m    199\u001b[0m     \u001b[0;32mdef\u001b[0m \u001b[0mconnect\u001b[0m\u001b[0;34m(\u001b[0m\u001b[0mself\u001b[0m\u001b[0;34m)\u001b[0m\u001b[0;34m:\u001b[0m\u001b[0;34m\u001b[0m\u001b[0;34m\u001b[0m\u001b[0m\n\u001b[0;32m--> 200\u001b[0;31m         \u001b[0mconn\u001b[0m \u001b[0;34m=\u001b[0m \u001b[0mself\u001b[0m\u001b[0;34m.\u001b[0m\u001b[0m_new_conn\u001b[0m\u001b[0;34m(\u001b[0m\u001b[0;34m)\u001b[0m\u001b[0;34m\u001b[0m\u001b[0;34m\u001b[0m\u001b[0m\n\u001b[0m\u001b[1;32m    201\u001b[0m         \u001b[0mself\u001b[0m\u001b[0;34m.\u001b[0m\u001b[0m_prepare_conn\u001b[0m\u001b[0;34m(\u001b[0m\u001b[0mconn\u001b[0m\u001b[0;34m)\u001b[0m\u001b[0;34m\u001b[0m\u001b[0;34m\u001b[0m\u001b[0m\n\u001b[1;32m    202\u001b[0m \u001b[0;34m\u001b[0m\u001b[0m\n",
      "\u001b[0;32m/home/marcus-pinheiro/snap/jupyter/common/lib/python3.7/site-packages/urllib3/connection.py\u001b[0m in \u001b[0;36m_new_conn\u001b[0;34m(self)\u001b[0m\n\u001b[1;32m    168\u001b[0m         \u001b[0;32mtry\u001b[0m\u001b[0;34m:\u001b[0m\u001b[0;34m\u001b[0m\u001b[0;34m\u001b[0m\u001b[0m\n\u001b[1;32m    169\u001b[0m             conn = connection.create_connection(\n\u001b[0;32m--> 170\u001b[0;31m                 \u001b[0;34m(\u001b[0m\u001b[0mself\u001b[0m\u001b[0;34m.\u001b[0m\u001b[0m_dns_host\u001b[0m\u001b[0;34m,\u001b[0m \u001b[0mself\u001b[0m\u001b[0;34m.\u001b[0m\u001b[0mport\u001b[0m\u001b[0;34m)\u001b[0m\u001b[0;34m,\u001b[0m \u001b[0mself\u001b[0m\u001b[0;34m.\u001b[0m\u001b[0mtimeout\u001b[0m\u001b[0;34m,\u001b[0m \u001b[0;34m**\u001b[0m\u001b[0mextra_kw\u001b[0m\u001b[0;34m\u001b[0m\u001b[0;34m\u001b[0m\u001b[0m\n\u001b[0m\u001b[1;32m    171\u001b[0m             )\n\u001b[1;32m    172\u001b[0m \u001b[0;34m\u001b[0m\u001b[0m\n",
      "\u001b[0;32m/home/marcus-pinheiro/snap/jupyter/common/lib/python3.7/site-packages/urllib3/util/connection.py\u001b[0m in \u001b[0;36mcreate_connection\u001b[0;34m(address, timeout, source_address, socket_options)\u001b[0m\n\u001b[1;32m     84\u001b[0m             \u001b[0;32mif\u001b[0m \u001b[0msource_address\u001b[0m\u001b[0;34m:\u001b[0m\u001b[0;34m\u001b[0m\u001b[0;34m\u001b[0m\u001b[0m\n\u001b[1;32m     85\u001b[0m                 \u001b[0msock\u001b[0m\u001b[0;34m.\u001b[0m\u001b[0mbind\u001b[0m\u001b[0;34m(\u001b[0m\u001b[0msource_address\u001b[0m\u001b[0;34m)\u001b[0m\u001b[0;34m\u001b[0m\u001b[0;34m\u001b[0m\u001b[0m\n\u001b[0;32m---> 86\u001b[0;31m             \u001b[0msock\u001b[0m\u001b[0;34m.\u001b[0m\u001b[0mconnect\u001b[0m\u001b[0;34m(\u001b[0m\u001b[0msa\u001b[0m\u001b[0;34m)\u001b[0m\u001b[0;34m\u001b[0m\u001b[0;34m\u001b[0m\u001b[0m\n\u001b[0m\u001b[1;32m     87\u001b[0m             \u001b[0;32mreturn\u001b[0m \u001b[0msock\u001b[0m\u001b[0;34m\u001b[0m\u001b[0;34m\u001b[0m\u001b[0m\n\u001b[1;32m     88\u001b[0m \u001b[0;34m\u001b[0m\u001b[0m\n",
      "\u001b[0;31mKeyboardInterrupt\u001b[0m: "
     ]
    }
   ],
   "source": [
    "for link in soup.find_all('a'):\n",
    "    rjogo = requests.get('http://www.jogosdoguarani.com/2021/'+link.get('href'))\n",
    "    soupjogo = BeautifulSoup(rjogo.text, 'html.parser')\n",
    "    print(link.get('href').replace(\".html\",\"\") + (\"|\") + soupjogo.title.string)\n",
    "    "
   ]
  },
  {
   "cell_type": "code",
   "execution_count": null,
   "metadata": {},
   "outputs": [],
   "source": []
  }
 ],
 "metadata": {
  "kernelspec": {
   "display_name": "Python 3",
   "language": "python",
   "name": "python3"
  },
  "language_info": {
   "codemirror_mode": {
    "name": "ipython",
    "version": 3
   },
   "file_extension": ".py",
   "mimetype": "text/x-python",
   "name": "python",
   "nbconvert_exporter": "python",
   "pygments_lexer": "ipython3",
   "version": "3.7.3"
  }
 },
 "nbformat": 4,
 "nbformat_minor": 2
}
