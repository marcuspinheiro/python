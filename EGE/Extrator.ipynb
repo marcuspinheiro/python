{
 "cells": [
  {
   "cell_type": "code",
   "execution_count": 6,
   "metadata": {},
   "outputs": [],
   "source": [
    "import requests\n",
    "from bs4 import BeautifulSoup"
   ]
  },
  {
   "cell_type": "code",
   "execution_count": 5,
   "metadata": {},
   "outputs": [
    {
     "name": "stdout",
     "output_type": "stream",
     "text": [
      "Collecting bs4\n",
      "  Downloading bs4-0.0.1.tar.gz (1.1 kB)\n",
      "Collecting beautifulsoup4\n",
      "  Downloading beautifulsoup4-4.9.3-py3-none-any.whl (115 kB)\n",
      "\u001b[K     |████████████████████████████████| 115 kB 3.7 MB/s eta 0:00:01\n",
      "\u001b[?25hCollecting soupsieve>1.2; python_version >= \"3.0\"\n",
      "  Downloading soupsieve-2.2.1-py3-none-any.whl (33 kB)\n",
      "Building wheels for collected packages: bs4\n",
      "  Building wheel for bs4 (setup.py) ... \u001b[?25ldone\n",
      "\u001b[?25h  Created wheel for bs4: filename=bs4-0.0.1-py3-none-any.whl size=1272 sha256=878d1ea384794fb18d9184979369bccd436e2d9db682918309d04666a388c2b7\n",
      "  Stored in directory: /home/marcus-pinheiro/.cache/pip/wheels/75/78/21/68b124549c9bdc94f822c02fb9aa3578a669843f9767776bca\n",
      "Successfully built bs4\n",
      "Installing collected packages: soupsieve, beautifulsoup4, bs4\n",
      "Successfully installed beautifulsoup4-4.9.3 bs4-0.0.1 soupsieve-2.2.1\n",
      "Note: you may need to restart the kernel to use updated packages.\n"
     ]
    }
   ],
   "source": [
    "pip install bs4"
   ]
  },
  {
   "cell_type": "code",
   "execution_count": 7,
   "metadata": {},
   "outputs": [],
   "source": [
    "r = requests.get('http://www.jogosdoguarani.com/2021/index.html')"
   ]
  },
  {
   "cell_type": "code",
   "execution_count": 8,
   "metadata": {},
   "outputs": [
    {
     "data": {
      "text/plain": [
       "'<!DOCTYPE html PUBLIC \"-//w3c//dtd html 4.0 transitional//en\">\\r\\n<html>\\r\\n  <head>\\r\\n    <meta http-equiv=\"Content-Type\" content=\"text/html;\\r\\n      charset=windows-1252\">\\r\\n    <meta name=\"Author\" content=\"Jose Ricardo Lenzi Mariolani\">\\r\\n    <meta name=\"GENERATOR\" content=\"Mozilla/4.76 [en] (Win98; U)\\r\\n      [Netscape]\">\\r\\n    <title>GUARANI FUTEBOL CLUBE - Jogos de 2021</title>\\r\\n  </head>\\r\\n  <body nosave=\"\" style=\"background-image:\\r\\n    url(../index_arquivos/image001.gif); background-color: rgb(255, 255,\\r\\n    255); color: rgb(0, 0, 0);\" link=\"#009900\" vlink=\"#009900\"\\r\\n    alink=\"#33cc00\">\\r\\n    <div align=\"center\"><font color=\"#008800\"><b><u><font face=\"Courier\\r\\n              New,Courier\"><font size=\"+3\">2021</font></font></u></b></font></div>\\r\\n    <center style=\"color: rgb(0, 128, 0);\">\\r\\n      <p><font face=\"Courier New,Courier\"><font size=\"-1\">Clique nas\\r\\n            datas para ver as fichas técnicas</font></font></p>\\r\\n    </center>\\r\\n    <p style=\"color: rgb(0, 128, 0);\"><font face=\"Courier New,Courier\"><a\\r\\n          href=\"0121.html\">02/01/2021</a> - <b>GUARANI</b> 0 X 1\\r\\n        América (MG) - Campeonato Brasileiro série B 2020<br>\\r\\n      </font></p>\\r\\n    <p style=\"color: rgb(0, 128, 0);\"><font face=\"Courier New,Courier\"><a\\r\\n          href=\"0221.html\">05/01/2021</a> - <b>GUARANI</b> 1 X 1 AAPP -\\r\\n        Campeonato Brasileiro série B 2020</font><br>\\r\\n      <font face=\"Courier New,Courier\"> </font> </p>\\r\\n    <p style=\"color: rgb(0, 128, 0);\"><font face=\"Courier New,Courier\"><a\\r\\n          href=\"0321.html\">11/01/2021</a> - CRB 2 X 0 <b>GUARANI</b> -\\r\\n        Campeonato Brasileiro série B 2020<br>\\r\\n      </font></p>\\r\\n    <p style=\"color: rgb(0, 128, 0);\"><font face=\"Courier New,Courier\"><a\\r\\n          href=\"0421.html\">14/01/2021</a> - Cuiabá 4 X 0 <b>GUARANI</b>\\r\\n        - Campeonato Brasileiro série B 2020</font><br>\\r\\n      <font face=\"Courier New,Courier\"> </font> </p>\\r\\n    <p style=\"color: rgb(0, 128, 0);\"><font face=\"Courier New,Courier\"><a\\r\\n          href=\"0521.html\">20/01/2021</a> - <b>GUARANI</b> 1 X 2\\r\\n        Vitória - Campeonato Brasileiro série B 2020</font><br>\\r\\n      <font face=\"Courier New,Courier\"> </font> </p>\\r\\n    <p style=\"color: rgb(0, 128, 0);\"><font face=\"Courier New,Courier\"><a\\r\\n          href=\"0621.html\">23/01/2021</a> - Avaí 2 X 1 <b>GUARANI</b> -\\r\\n        Campeonato Brasileiro série B 2020<br>\\r\\n      </font></p>\\r\\n    <p style=\"color: rgb(0, 128, 0);\"><font face=\"Courier New,Courier\"><a\\r\\n          href=\"0721.html\">29/01/2021</a> - <b>GUARANI</b> 0 X 1\\r\\n        Juventude - Campeonato Brasileiro série B 2020<br>\\r\\n      </font></p>\\r\\n    <p style=\"color: rgb(0, 128, 0);\"><font face=\"Courier New,Courier\"><a\\r\\n          href=\"0821.html\">01/03/2021</a> - <b>GUARANI</b> 0 X 3 Ituano\\r\\n        - Campeonato Paulista<br>\\r\\n      </font></p>\\r\\n    <p style=\"color: rgb(0, 128, 0);\"><font face=\"Courier New,Courier\"><a\\r\\n          href=\"0921.html\">04/03/2021</a> - Botafogo (Rib. Preto) 0 X 1\\r\\n        <b>GUARANI</b> - Campeonato Paulista<br>\\r\\n      </font></p>\\r\\n    <p style=\"color: rgb(0, 128, 0);\"><font face=\"Courier New,Courier\"><a\\r\\n          href=\"1021.html\">07/03/2021</a> - <b>GUARANI</b> 1 X 1 Red\\r\\n        Bull Bragantino - Campeonato Paulista<br>\\r\\n      </font></p>\\r\\n    <p style=\"color: rgb(0, 128, 0);\"><font face=\"Courier New,Courier\"><a\\r\\n          href=\"1121.html\">13/03/2021</a> - <b>GUARANI</b> 0 X 0 São\\r\\n        Bento (Sorocaba) - Campeonato Paulista<br>\\r\\n      </font></p>\\r\\n    <p style=\"color: rgb(0, 128, 0);\"><font face=\"Courier New,Courier\"><a\\r\\n          href=\"1221.html\">11/04/2021</a> - <b>GUARANI</b> 0 X 1\\r\\n        Corinthians Pta. - Campeonato Paulista<br>\\r\\n      </font></p>\\r\\n    <p style=\"color: rgb(0, 128, 0);\"><font face=\"Courier New,Courier\"><a\\r\\n          href=\"1321.html\">14/04/2021</a> - S. Paulo 3 X 2 <b>GUARANI</b>\\r\\n        - Campeonato Paulista<br>\\r\\n      </font></p>\\r\\n    <p style=\"color: rgb(0, 128, 0);\"><font face=\"Courier New,Courier\"><a\\r\\n          href=\"1421.html\">20/04/2021</a> - Ferroviária 1 X 2 <b>GUARANI</b>\\r\\n        - Campeonato Paulista<br>\\r\\n      </font></p>\\r\\n    <p style=\"color: rgb(0, 128, 0);\"><font face=\"Courier New,Courier\"><a\\r\\n          href=\"1521.html\">23/04/2021</a> - <b>GUARANI</b> 1 X 2\\r\\n        Palmeiras - Campeonato Paulista<br>\\r\\n      </font></p>\\r\\n    <p style=\"color: rgb(0, 128, 0);\"><font face=\"Courier New,Courier\"><a\\r\\n          href=\"1621.html\">26/04/2021</a> - (Canindé) Santo André 0 X 1\\r\\n        <b>GUARANI</b> - Campeonato Paulista<br>\\r\\n      </font></p>\\r\\n    <p style=\"color: rgb(0, 128, 0);\"><font face=\"Courier New,Courier\"><a\\r\\n          href=\"1721.html\">02/05/2021</a> - <b>GUARANI</b> 2 X 1\\r\\n        Novorizontino - Campeonato Paulsta<br>\\r\\n      </font></p>\\r\\n    <p style=\"color: rgb(0, 128, 0);\"><font face=\"Courier New,Courier\"><a\\r\\n          href=\"1821.html\">05/05/2021</a> - AAPP 3 X 1 <b>GUARANI</b> -\\r\\n        Campeonato Paulista<br>\\r\\n      </font></p>\\r\\n    <p style=\"color: rgb(0, 128, 0);\"><font face=\"Courier New,Courier\"><a\\r\\n          href=\"1921.html\">09/05/2021</a> - Internacional (Limeira) 1 X\\r\\n        0 <b>GUARANI</b> - Campeonato Paulista<br>\\r\\n      </font></p>\\r\\n    <p style=\"color: rgb(0, 128, 0);\"><font face=\"Courier New,Courier\"><a\\r\\n          href=\"2021.html\">12/05/2021</a> - Mirassol 0 X 0 <b>GUARANI</b>\\r\\n        - Campeonato Paulista<br>\\r\\n      </font></p>\\r\\n    <p style=\"color: rgb(0, 128, 0);\"><font face=\"Courier New,Courier\"><a\\r\\n          href=\"2121.html\">28/05/2021</a> - <b>GUARANI</b> 1 X 1\\r\\n        Vitória - Campeonato Brasileiro série B<br>\\r\\n      </font></p>\\r\\n    <p style=\"color: rgb(0, 128, 0);\"><font face=\"Courier New,Courier\"><a\\r\\n          href=\"2221.html\">01/06/2021</a> - (Curitiba) Operário (Ponta\\r\\n        Grossa) 2 X 5 <b>GUARANI</b> - Campeonato Brasileiro série B<br>\\r\\n      </font></p>\\r\\n    <p style=\"color: rgb(0, 128, 0);\"><font face=\"Courier New,Courier\"><a\\r\\n          href=\"2321.html\">11/06/2021</a> - <b>GUARANI</b> 1 X 3\\r\\n        Náutico - Campeonato Brasileiro série B<br>\\r\\n      </font></p>\\r\\n    <p style=\"color: rgb(0, 128, 0);\"><font face=\"Courier New,Courier\"><a\\r\\n          href=\"2421.html\">15/06/2021</a> - CSA 1 X 1 <b>GUARANI</b> -\\r\\n        Campeonato Brasileiro série B<br>\\r\\n      </font></p>\\r\\n    <p style=\"color: rgb(0, 128, 0);\"><font face=\"Courier New,Courier\"><a\\r\\n          href=\"2521.html\">19/06/2021</a> - <b>GUARANI</b> 1 X 0 AAPP -\\r\\n        Campeonato Brasileiro série B<br>\\r\\n      </font></p>\\r\\n    <p style=\"color: rgb(0, 128, 0);\"><font face=\"Courier New,Courier\"><a\\r\\n          href=\"2621.html\">22/06/2021</a> - Remo 0 X 0 <b>GUARANI</b> -\\r\\n        Campeonato Brasileiro série B<br>\\r\\n      </font></p>\\r\\n    <p style=\"color: rgb(0, 128, 0);\"><font face=\"Courier New,Courier\"><a\\r\\n          href=\"2721.html\">25/06/2021</a> - <b>GUARANI</b> 0 X 2\\r\\n        Coritiba - Campeonato Brasileiro série B<br>\\r\\n      </font></p>\\r\\n    <p style=\"color: rgb(0, 128, 0);\"><font face=\"Courier New,Courier\"><a\\r\\n          href=\"2821.html\">30/06/2021</a> - Cruzeiro 3 X 3 <b>GUARANI</b>\\r\\n        - Campeonato Brasileiro série B<br>\\r\\n      </font></p>\\r\\n    <p style=\"color: rgb(0, 128, 0);\"><font face=\"Courier New,Courier\"><a\\r\\n          href=\"2921.html\">04/07/2021</a> - <b>GUARANI</b> 4 X 1\\r\\n        Brusque - Campeonato Brasileiro série B<br>\\r\\n      </font></p>\\r\\n    <p style=\"color: rgb(0, 128, 0);\"><font face=\"Courier New,Courier\"><a\\r\\n          href=\"3021.html\">09/07/2021</a> - Londrina 0 X 1 <b>GUARANI</b>\\r\\n        - Campeonato Brasileiro série B<br>\\r\\n      </font></p>\\r\\n    <p style=\"color: rgb(0, 128, 0);\"><font face=\"Courier New,Courier\"><a\\r\\n          href=\"3121.html\">13/07/2021</a> - <b>GUARANI</b> 1 X 0 CRB -\\r\\n        Campeonato Brasileiro série B<br>\\r\\n      </font></p>\\r\\n    <p style=\"color: rgb(0, 128, 0);\"><font face=\"Courier New,Courier\"><a\\r\\n          href=\"3221.html\">16/07/2021</a> - Confiança 1 X 4 <b>GUARANI</b>\\r\\n        - Campeonato Brasileiro série B<br>\\r\\n      </font></p>\\r\\n    <p style=\"color: rgb(0, 128, 0);\"><font face=\"Courier New,Courier\"><a\\r\\n          href=\"3321.html\">20/07/2021</a> - <b>GUARANI</b> 0 X 0\\r\\n        Sampaio Corrêa - Campeonato Brasileiro série B<br>\\r\\n      </font></p>\\r\\n    <p style=\"color: rgb(0, 128, 0);\"><font face=\"Courier New,Courier\"><a\\r\\n          href=\"3421.html\">24/07/2021</a> - Vasco 4 X 1 <b>GUARANI</b>\\r\\n        - Campeonato Brasileiro série B<br>\\r\\n      </font></p>\\r\\n    <p style=\"color: rgb(0, 128, 0);\"><font face=\"Courier New,Courier\"><a\\r\\n          href=\"3521.html\">31/07/2021</a> - <b>GUARANI</b> 1 X 4 Vila\\r\\n        Nova (GO) - Campeonato Brasileiro série B<br>\\r\\n      </font></p>\\r\\n    <p style=\"color: rgb(0, 128, 0);\"><font face=\"Courier New,Courier\"><a\\r\\n          href=\"3621.html\">06/08/2021</a> - <b>GUARANI</b> 2 X 0 Brasil\\r\\n        (Pelotas) - Campeonato Brasileiro série B<br>\\r\\n      </font></p>\\r\\n    <p style=\"color: rgb(0, 128, 0);\"><font face=\"Courier New,Courier\"><a\\r\\n          href=\"3721.html\">10/08/2021</a> - Avaí 0 X 1 <b>GUARANI</b> -\\r\\n        Campeonato Brasileiro série B<br>\\r\\n      </font></p>\\r\\n    <p style=\"color: rgb(0, 128, 0);\"><font face=\"Courier New,Courier\"><a\\r\\n          href=\"3821.html\">13/08/2021</a> - Goiás 2 X 1 <b>GUARANI</b>\\r\\n        - Campeonato Brasileiro série B<br>\\r\\n      </font></p>\\r\\n    <p style=\"color: rgb(0, 128, 0);\"><font face=\"Courier New,Courier\"><a\\r\\n          href=\"3921.html\">18/08/2021</a> - <b>GUARANI</b> 1 X 1\\r\\n        Botafogo (RJ) - Campeonato Brasileiro série B<br>\\r\\n      </font></p>\\r\\n    <p style=\"color: rgb(0, 128, 0);\"><font face=\"Courier New,Courier\"><a\\r\\n          href=\"4021.html\">21/08/2021</a> - Vitória 1 X 0 <b>GUARANI</b>\\r\\n        - Campeonato Brasileiro série B<br>\\r\\n      </font></p>\\r\\n    <p style=\"color: rgb(0, 128, 0);\"><font face=\"Courier New,Courier\">24/08/2021\\n\\n\\n\\n\\n\\n\\n\\n\\n\\n\\n\\n\\n\\r\\n        - <b>GUARANI</b>&nbsp; X&nbsp; Operário (Ponta Grossa) -\\r\\n        Campeonato Brasileiro série B<br>\\r\\n      </font></p>\\r\\n    <p style=\"color: rgb(0, 128, 0);\"><font face=\"Courier New,Courier\">04/09/2021\\n\\n\\n\\n\\n\\n\\n\\n\\n\\n\\n\\n\\n\\r\\n        - Náutico&nbsp; X&nbsp; <b>GUARANI</b> - Campeonato Brasileiro\\r\\n        série B<br>\\r\\n      </font></p>\\r\\n    <p style=\"color: rgb(0, 128, 0);\"><font face=\"Courier New,Courier\">07/09/2021\\n\\n\\n\\n\\n\\n\\n\\n\\n\\n\\n\\n\\n\\r\\n        - <b>GUARANI</b>&nbsp; X&nbsp; CSA - Campeonato Brasileiro\\r\\n        série B<br>\\r\\n      </font></p>\\r\\n    <p style=\"color: rgb(0, 128, 0);\"><font face=\"Courier New,Courier\">AAPP&nbsp;\\n\\n\\n\\n\\n\\n\\n\\n\\n\\n\\r\\n        X&nbsp; <b>GUARANI</b> - Campeonato Brasileiro série B</font></p>\\r\\n    <p style=\"color: rgb(0, 128, 0);\"><font face=\"Courier New,Courier\"></font><font\\r\\n        face=\"Courier New,Courier\"><font face=\"Courier New,Courier\"><b>GUARANI</b>&nbsp;\\n\\n\\n\\n\\n\\n\\n\\n\\n\\n\\r\\n          X&nbsp; </font> - Campeonato Brasileiro série B</font><br>\\r\\n    </p>\\r\\n    <p style=\"color: rgb(0, 128, 0);\"><font face=\"Courier New,Courier\"><font\\r\\n          face=\"Courier New,Courier\">Coritiba&nbsp; X&nbsp; <b>GUARANI</b>\\r\\n          - Campeonato Brasileiro série B</font></font></p>\\r\\n    <p style=\"color: rgb(0, 128, 0);\"><font face=\"Courier New,Courier\"><font\\r\\n          face=\"Courier New,Courier\"></font></font><font face=\"Courier\\r\\n        New,Courier\"><font face=\"Courier New,Courier\"><b>GUARANI</b>&nbsp;\\n\\n\\n\\n\\n\\n\\n\\n\\n\\n\\r\\n          X&nbsp; Cruzeiro</font> - Campeonato Brasileiro série B</font><br>\\r\\n    </p>\\r\\n    <p style=\"color: rgb(0, 128, 0);\"><font face=\"Courier New,Courier\">Brusque&nbsp;\\n\\n\\n\\n\\n\\n\\n\\n\\n\\n\\r\\n        X&nbsp; <b>GUARANI</b> - Campeonato Brasileiro série B</font></p>\\r\\n    <p style=\"color: rgb(0, 128, 0);\"><font face=\"Courier New,Courier\"></font><font\\r\\n        face=\"Courier New,Courier\"><font face=\"Courier New,Courier\"><b>GUARANI</b>&nbsp;\\n\\n\\n\\n\\n\\n\\n\\n\\n\\n\\r\\n          X&nbsp; Londrina&nbsp;</font> - Campeonato Brasileiro série B</font><br>\\r\\n    </p>\\r\\n    <p style=\"color: rgb(0, 128, 0);\"><font face=\"Courier New,Courier\">CRB&nbsp;\\n\\n\\n\\n\\n\\n\\n\\n\\n\\n\\r\\n        X&nbsp; <b>GUARANI</b> - Campeonato Brasileiro série B</font></p>\\r\\n    <p style=\"color: rgb(0, 128, 0);\"><font face=\"Courier New,Courier\"><font\\r\\n          face=\"Courier New,Courier\"><b>GUARANI</b>&nbsp; X&nbsp;\\r\\n          Confiança</font> - Campeonato Brasileiro série B</font></p>\\r\\n    <p style=\"color: rgb(0, 128, 0);\"><font face=\"Courier New,Courier\"></font><font\\r\\n        face=\"Courier New,Courier\">Sampaio Corrêa&nbsp; X&nbsp; <b>GUARANI</b>\\r\\n        - Campeonato Brasileiro série B</font></p>\\r\\n    <p style=\"color: rgb(0, 128, 0);\"><font face=\"Courier New,Courier\"><font\\r\\n          face=\"Courier New,Courier\"><b>GUARANI</b>&nbsp; X&nbsp; </font>\\r\\n        Vasco - Campeonato Brasileiro série B</font></p>\\r\\n    <p style=\"color: rgb(0, 128, 0);\"><font face=\"Courier New,Courier\">Vila\\n\\n\\n\\n\\n\\n\\n\\n\\n\\n\\r\\n        Nova (GO)&nbsp; X&nbsp; <b>GUARANI</b> - Campeonato Brasileiro\\r\\n        série B</font></p>\\r\\n    <p style=\"color: rgb(0, 128, 0);\"><font face=\"Courier New,Courier\">Brasil\\n\\n\\n\\n\\n\\n\\n\\n\\n\\n\\r\\n        (Pelotas)&nbsp; X&nbsp; <b>GUARANI</b> - Campeonato Brasileiro\\r\\n        série B</font></p>\\r\\n    <p style=\"color: rgb(0, 128, 0);\"><font face=\"Courier New,Courier\"><font\\r\\n          face=\"Courier New,Courier\"><b>GUARANI</b>&nbsp; X&nbsp; </font>\\r\\n        Avaí - Campeonato Brasileiro série B</font></p>\\r\\n    <p style=\"color: rgb(0, 128, 0);\"><font face=\"Courier New,Courier\"><font\\r\\n          face=\"Courier New,Courier\"><b>GUARANI</b>&nbsp; X&nbsp;\\r\\n          Goiás&nbsp;</font> - Campeonato Brasileiro série B</font></p>\\r\\n    <p style=\"color: rgb(0, 128, 0);\"><font face=\"Courier New,Courier\">Botafogo\\n\\n\\n\\n\\n\\n\\n\\n\\n\\n\\r\\n        (RJ)&nbsp; X&nbsp; <b>GUARANI</b> - Campeonato Brasileiro série\\r\\n        B</font><br>\\r\\n      <font face=\"Courier New,Courier\"> </font> <font face=\"Courier\\r\\n        New,Courier\"> </font> </p>\\r\\n    <br>\\r\\n    <table style=\"width: 100%; text-align: left; color: rgb(0, 128, 0);\"\\r\\n      cellspacing=\"2\" cellpadding=\"2\" border=\"0\">\\r\\n      <tbody>\\r\\n        <tr>\\r\\n          <td style=\"vertical-align: top;\"><font color=\"#006600\"><a\\r\\n                href=\"javascript:history.back()\"><span\\r\\n                  style=\"font-family: wingdings;\"></span><span\\r\\n                  style=\"font-size: 14pt; font-family: &quot;Times New\\r\\n                  Roman&quot;;\">voltar</span></a></font></td>\\r\\n          <td style=\"vertical-align: top;\">\\r\\n            <center><font size=\"+1\"><a href=\"../2020/index.html\">2020</a></font></center>\\r\\n          </td>\\r\\n          <td style=\"vertical-align: top;\">\\r\\n            <center><font size=\"+1\"><a href=\"../index.htm\">Página\\r\\n                  inicial</a></font></center>\\r\\n          </td>\\r\\n          <td style=\"vertical-align: top;\">\\r\\n            <center><font size=\"+1\"><a href=\"../2022/index.html\">2022</a></font></center>\\r\\n          </td>\\r\\n        </tr>\\r\\n      </tbody>\\r\\n    </table>\\r\\n    <p><span style=\"font-family: Wingdings;\"><b><font color=\"#006600\"><a\\r\\n              href=\"javascript:history.back()\"><span style=\"font-size:\\r\\n                14pt; font-family: &quot;Times New Roman&quot;;\"></span></a></font></b></span></p>\\r\\n  </body>\\r\\n</html>\\r\\n'"
      ]
     },
     "execution_count": 8,
     "metadata": {},
     "output_type": "execute_result"
    }
   ],
   "source": [
    "r.text"
   ]
  },
  {
   "cell_type": "code",
   "execution_count": 9,
   "metadata": {},
   "outputs": [],
   "source": [
    "soup = BeautifulSoup(r.text, 'html.parser')\n"
   ]
  },
  {
   "cell_type": "code",
   "execution_count": 10,
   "metadata": {},
   "outputs": [
    {
     "data": {
      "text/plain": [
       "'GUARANI FUTEBOL CLUBE - Jogos de 2021'"
      ]
     },
     "execution_count": 10,
     "metadata": {},
     "output_type": "execute_result"
    }
   ],
   "source": [
    "soup.title.string"
   ]
  },
  {
   "cell_type": "code",
   "execution_count": 11,
   "metadata": {},
   "outputs": [
    {
     "name": "stdout",
     "output_type": "stream",
     "text": [
      "0121.html\n",
      "0221.html\n",
      "0321.html\n",
      "0421.html\n",
      "0521.html\n",
      "0621.html\n",
      "0721.html\n",
      "0821.html\n",
      "0921.html\n",
      "1021.html\n",
      "1121.html\n",
      "1221.html\n",
      "1321.html\n",
      "1421.html\n",
      "1521.html\n",
      "1621.html\n",
      "1721.html\n",
      "1821.html\n",
      "1921.html\n",
      "2021.html\n",
      "2121.html\n",
      "2221.html\n",
      "2321.html\n",
      "2421.html\n",
      "2521.html\n",
      "2621.html\n",
      "2721.html\n",
      "2821.html\n",
      "2921.html\n",
      "3021.html\n",
      "3121.html\n",
      "3221.html\n",
      "3321.html\n",
      "3421.html\n",
      "3521.html\n",
      "3621.html\n",
      "3721.html\n",
      "3821.html\n",
      "3921.html\n",
      "4021.html\n",
      "javascript:history.back()\n",
      "../2020/index.html\n",
      "../index.htm\n",
      "../2022/index.html\n",
      "javascript:history.back()\n"
     ]
    }
   ],
   "source": [
    "for link in soup.find_all('a'):\n",
    "    \n",
    "    print(link.get('href'))\n",
    "    "
   ]
  },
  {
   "cell_type": "code",
   "execution_count": 43,
   "metadata": {},
   "outputs": [
    {
     "name": "stdout",
     "output_type": "stream",
     "text": [
      "0121|GUARANI 0 X 1 América (MG)|D|C|América (MG)|0|1\n",
      "0221|GUARANI 1 X 1 AAPP|E|C|AAPP|1|1\n",
      "0321|CRB 2 X 0 GUARANI|D|F|CRB|0|2\n",
      "0421|Cuiabá 4 X 0 GUARANI|D|F|Cuiabá|0|4\n",
      "0521|GUARANI 1 X 2 Vitória|D|C|Vitória|1|2\n",
      "0621|Avaí 2 X 1 GUARANI|D|F|Avaí|1|2\n",
      "0721|GUARANI 0 X 1 Juventude|D|C|Juventude|0|1\n",
      "0821|GUARANI 0 X 3 Ituano|D|C|Ituano|0|3\n",
      "0921|Botafogo (Rib. Preto) 0 X 1 GUARANI|V|F|Botafogo (Rib. Preto)|1|0\n",
      "1021|GUARANI 1 X 1 Red Bull Bragantino|E|C|Red Bull Bragantino|1|1\n",
      "1121|GUARANI 0 X 0 São Bento (Sorocaba)|E|C|São Bento (Sorocaba)|0|0\n",
      "1221|GUARANI 0 X 1 Corinthians Pta.|D|C|Corinthians Pta.|0|1\n",
      "1321|S. Paulo 3 X 2 GUARANI|D|F|S. Paulo|2|3\n",
      "1421|Ferroviária 1 X 2 GUARANI|V|F|Ferroviária|2|1\n",
      "1521|GUARANI 1 X 2 Palmeiras|D|C|Palmeiras|1|2\n",
      "1621|Santo André 0 X 1 GUARANI|V|F|Santo André|1|0\n",
      "1721|GUARANI 2 X 1 Novorizontino|V|C|Novorizontino|2|1\n",
      "1821|AAPP 3 X 1 GUARANI|D|F|AAPP|1|3\n",
      "1921|Internacional (Limeira) 1 X 0 GUARANI|D|F|Internacional (Limeira)|0|1\n",
      "2021|Mirassol 0 X 0 GUARANI|E|F|Mirassol|0|0\n",
      "2121|GUARANI 1 X 1 Vitória|E|C|Vitória|1|1\n",
      "2221|Operário (Ponta Grossa) 2 X 5 GUARANI|V|F|Operário (Ponta Grossa)|5|2\n",
      "2321|GUARANI 1 X 3 Náutico|D|C|Náutico|1|3\n",
      "2421|CSA 1 X 1 GUARANI|E|F|CSA|1|1\n",
      "2521|GUARANI 1 X 0 AAPP|V|C|AAPP|1|0\n",
      "2621|Remo 0 X 0 GUARANI|E|F|Remo|0|0\n",
      "2721|GUARANI 0 X 2 Coritiba|D|C|Coritiba|0|2\n",
      "2821|Cruzeiro 3 X 3 GUARANI|E|F|Cruzeiro|3|3\n",
      "2921|GUARANI 4 X 1 Brusque|V|C|Brusque|4|1\n",
      "3021|Londrina 0 X 1 GUARANI|V|F|Londrina|1|0\n",
      "3121|GUARANI 1 X 0 CRB|V|C|CRB|1|0\n",
      "3221|Confiança 1 X 4 GUARANI|V|F|Confiança|4|1\n",
      "3321|GUARANI 0 X 0 Sampaio Corrêa|E|C|Sampaio Corrêa|0|0\n",
      "3421|Vasco 4 X 1 GUARANI|D|F|Vasco|1|4\n",
      "3521|GUARANI 1 X 4 Vila Nova (GO)|D|C|Vila Nova (GO)|1|4\n",
      "3621|GUARANI 2 X 0 Brasil (Pelotas)|V|C|Brasil (Pelotas)|2|0\n",
      "3721|Avaí 0 X 1 GUARANI|V|F|Avaí|1|0\n",
      "3821|Goiás 2 X 1 GUARANI|D|F|Goiás|1|2\n",
      "3921|GUARANI 1 X 1 Botafogo (RJ)|E|C|Botafogo (RJ)|1|1\n",
      "4021|Vitória 1 X 0 GUARANI|D|F|Vitória|0|1\n"
     ]
    },
    {
     "ename": "IndexError",
     "evalue": "list index out of range",
     "output_type": "error",
     "traceback": [
      "\u001b[0;31m---------------------------------------------------------------------------\u001b[0m",
      "\u001b[0;31mIndexError\u001b[0m                                Traceback (most recent call last)",
      "\u001b[0;32m<ipython-input-43-a4c2db4dc01f>\u001b[0m in \u001b[0;36m<module>\u001b[0;34m\u001b[0m\n\u001b[1;32m     22\u001b[0m         \u001b[0mgol_adversario\u001b[0m \u001b[0;34m=\u001b[0m \u001b[0msoupjogo\u001b[0m\u001b[0;34m.\u001b[0m\u001b[0mtitle\u001b[0m\u001b[0;34m.\u001b[0m\u001b[0mstring\u001b[0m\u001b[0;34m.\u001b[0m\u001b[0mrsplit\u001b[0m\u001b[0;34m(\u001b[0m\u001b[0msep\u001b[0m\u001b[0;34m=\u001b[0m\u001b[0;34m\" \"\u001b[0m\u001b[0;34m,\u001b[0m \u001b[0mmaxsplit\u001b[0m\u001b[0;34m=\u001b[0m\u001b[0;36m4\u001b[0m\u001b[0;34m)\u001b[0m\u001b[0;34m[\u001b[0m\u001b[0;36m1\u001b[0m\u001b[0;34m]\u001b[0m\u001b[0;34m\u001b[0m\u001b[0;34m\u001b[0m\u001b[0m\n\u001b[1;32m     23\u001b[0m         \u001b[0;31m#gols guarani\u001b[0m\u001b[0;34m\u001b[0m\u001b[0;34m\u001b[0m\u001b[0;34m\u001b[0m\u001b[0m\n\u001b[0;32m---> 24\u001b[0;31m         \u001b[0mgol_guarani\u001b[0m \u001b[0;34m=\u001b[0m \u001b[0msoupjogo\u001b[0m\u001b[0;34m.\u001b[0m\u001b[0mtitle\u001b[0m\u001b[0;34m.\u001b[0m\u001b[0mstring\u001b[0m\u001b[0;34m.\u001b[0m\u001b[0mrsplit\u001b[0m\u001b[0;34m(\u001b[0m\u001b[0msep\u001b[0m\u001b[0;34m=\u001b[0m\u001b[0;34m\" \"\u001b[0m\u001b[0;34m,\u001b[0m \u001b[0mmaxsplit\u001b[0m\u001b[0;34m=\u001b[0m\u001b[0;36m4\u001b[0m\u001b[0;34m)\u001b[0m\u001b[0;34m[\u001b[0m\u001b[0;36m3\u001b[0m\u001b[0;34m]\u001b[0m\u001b[0;34m\u001b[0m\u001b[0;34m\u001b[0m\u001b[0m\n\u001b[0m\u001b[1;32m     25\u001b[0m \u001b[0;34m\u001b[0m\u001b[0m\n\u001b[1;32m     26\u001b[0m     \u001b[0;32mif\u001b[0m \u001b[0;34m(\u001b[0m\u001b[0mgol_guarani\u001b[0m \u001b[0;34m>\u001b[0m \u001b[0mgol_adversario\u001b[0m\u001b[0;34m)\u001b[0m\u001b[0;34m:\u001b[0m\u001b[0;34m\u001b[0m\u001b[0;34m\u001b[0m\u001b[0m\n",
      "\u001b[0;31mIndexError\u001b[0m: list index out of range"
     ]
    }
   ],
   "source": [
    "for link in soup.find_all('a'):\n",
    "    rjogo = requests.get('http://www.jogosdoguarani.com/2021/'+link.get('href'))\n",
    "    soupjogo = BeautifulSoup(rjogo.text, 'html.parser')\n",
    "\n",
    "    #Local do jogo\n",
    "    if (soupjogo.title.string[0:7]=='GUARANI'):\n",
    "        local = 'C'\n",
    "    else:\n",
    "        local = 'F'\n",
    "    #Adversario    \n",
    "    if (local=='C'):\n",
    "        #Adversario \n",
    "        adversario = soupjogo.title.string.split(sep=\" \", maxsplit=4)[4]\n",
    "        #gols adversario\n",
    "        gol_adversario = soupjogo.title.string.split(sep=\" \", maxsplit=4)[3]\n",
    "        #gols guarani\n",
    "        gol_guarani = soupjogo.title.string.split(sep=\" \", maxsplit=4)[1]\n",
    "    else:\n",
    "        #Adversario \n",
    "        adversario = soupjogo.title.string.rsplit(sep=\" \", maxsplit=4)[0]\n",
    "        #gols adversario\n",
    "        gol_adversario = soupjogo.title.string.rsplit(sep=\" \", maxsplit=4)[1]\n",
    "        #gols guarani\n",
    "        gol_guarani = soupjogo.title.string.rsplit(sep=\" \", maxsplit=4)[3]\n",
    "    \n",
    "    if (gol_guarani > gol_adversario):\n",
    "        result = 'V'\n",
    "    elif (gol_guarani < gol_adversario):\n",
    "        result = 'D'\n",
    "    else:\n",
    "        result = 'E'\n",
    "        \n",
    "        \n",
    "    #local \n",
    "    \n",
    "    #print final da linha    \n",
    "    print(link.get('href').replace(\".html\",\"\") + \n",
    "          (\"|\") + soupjogo.title.string + \n",
    "          (\"|\") + result +\n",
    "          (\"|\") + local + \n",
    "          (\"|\") + adversario+\n",
    "          (\"|\") + gol_guarani+\n",
    "          (\"|\") + gol_adversario)\n",
    "    "
   ]
  },
  {
   "cell_type": "code",
   "execution_count": null,
   "metadata": {},
   "outputs": [],
   "source": [
    "for link in soup.find_all('a'):\n",
    "    rjogo = requests.get('http://www.jogosdoguarani.com/2021/'+link.get('href'))\n",
    "    soupjogo = BeautifulSoup(rjogo.text, 'html.parser')\n"
   ]
  },
  {
   "cell_type": "code",
   "execution_count": null,
   "metadata": {},
   "outputs": [],
   "source": []
  }
 ],
 "metadata": {
  "kernelspec": {
   "display_name": "Python 3",
   "language": "python",
   "name": "python3"
  },
  "language_info": {
   "codemirror_mode": {
    "name": "ipython",
    "version": 3
   },
   "file_extension": ".py",
   "mimetype": "text/x-python",
   "name": "python",
   "nbconvert_exporter": "python",
   "pygments_lexer": "ipython3",
   "version": "3.8.10"
  }
 },
 "nbformat": 4,
 "nbformat_minor": 2
}
